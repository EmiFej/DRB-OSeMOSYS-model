{
 "cells": [
  {
   "cell_type": "markdown",
   "metadata": {},
   "source": [
    "- Load Packages"
   ]
  },
  {
   "cell_type": "code",
   "execution_count": null,
   "metadata": {},
   "outputs": [],
   "source": [
    "import atlite\n",
    "import xarray as xr\n",
    "import geopandas as gpd\n",
    "import matplotlib.pyplot as plt\n",
    "from rasterio.plot import show\n",
    "from atlite.gis import shape_availability, ExclusionContainer\n",
    "import os\n",
    "from matplotlib.gridspec import GridSpec\n",
    "import seaborn as sns\n",
    "import pandas as pd\n",
    "from pandas.plotting import register_matplotlib_converters\n",
    "register_matplotlib_converters()\n",
    "\n",
    "import cartopy.crs as ccrs\n",
    "from cartopy.crs import PlateCarree as plate\n",
    "import cartopy.io.shapereader as shpreader\n",
    "\n",
    "import logging\n",
    "import warnings\n",
    "\n",
    "warnings.simplefilter('ignore')\n",
    "logging.captureWarnings(False)\n",
    "logging.basicConfig(level=logging.INFO)\n",
    "\n",
    "import pygadm\n",
    "import geopandas as gpd\n",
    "import pandas as pd\n",
    "import typing"
   ]
  },
  {
   "cell_type": "markdown",
   "metadata": {},
   "source": [
    "# Load Boundaries"
   ]
  },
  {
   "cell_type": "markdown",
   "metadata": {},
   "source": [
    "> Replacing with pyGadm as naturalearth_lowres has been removed from stock database of geopandas"
   ]
  },
  {
   "cell_type": "code",
   "execution_count": null,
   "metadata": {},
   "outputs": [],
   "source": [
    "\"\"\" \n",
    "countries = ['Serbia', 'Bosnia and Herz.', 'Montenegro']\n",
    "plt.rcParams['figure.figsize'] = [7, 7]\n",
    "world = gpd.read_file(gpd.datasets.get_path('naturalearth_lowres'))\n",
    "\n",
    "shapes = world[world.name.isin(countries)].set_index('name')\n",
    "\n",
    "shapes.plot();\n",
    "\"\"\""
   ]
  },
  {
   "cell_type": "code",
   "execution_count": null,
   "metadata": {},
   "outputs": [],
   "source": [
    "## List of countries\n",
    "countries:list = ['Serbia', 'Bosnia and herzegovina', 'Montenegro'] # Names used to match GADM database\n",
    "\n",
    "## Initialize an empty list to hold GeoDataFrames\n",
    "_gdfs_:gpd.GeoDataFrame = []\n",
    "\n",
    "## Loop through the countries and fetch administrative items\n",
    "for country in countries:\n",
    "    gdf = pygadm.AdmItems(name=country, content_level=0) # Using Level 0 for now\n",
    "    _gdfs_.append(gdf)  # Add each GeoDataFrame to the list\n",
    "\n",
    "## Combine all GeoDataFrames into one\n",
    "countries_gdf:gpd.GeoDataFrame = pd.concat(_gdfs_, ignore_index=True)\n",
    "countries_gdf.crs=4326\n",
    "\n",
    "# Assuming 'countries_gdf' is your GeoDataFrame\n",
    "countries_gdf = countries_gdf.rename(columns={'NAME_0': 'Country','GID_0':'ISO'})\n",
    "\n",
    "countries_gdf=countries_gdf.set_index('ISO')\n",
    "print(f\"Prepared the Countries Geodataframe : \\n\\n {countries_gdf}\")"
   ]
  },
  {
   "cell_type": "code",
   "execution_count": null,
   "metadata": {},
   "outputs": [],
   "source": [
    "## Visualize the geodataframe\n",
    "# countries_gdf.explore('VARNAME_1')  # interactive map"
   ]
  },
  {
   "cell_type": "markdown",
   "metadata": {},
   "source": [
    "# Prepare Cutout"
   ]
  },
  {
   "cell_type": "markdown",
   "metadata": {},
   "source": [
    "* Create MBR (Minimum Bounding Rectangle) Coordinates from the geodatafram"
   ]
  },
  {
   "cell_type": "code",
   "execution_count": null,
   "metadata": {},
   "outputs": [],
   "source": [
    "bounds:tuple = countries_gdf.unary_union.buffer(1).bounds  #revised the MBR (minimum bounding rectangle) codes to match new goepandas versiopon. "
   ]
  },
  {
   "cell_type": "markdown",
   "metadata": {},
   "source": [
    "* Load Cutout"
   ]
  },
  {
   "cell_type": "code",
   "execution_count": null,
   "metadata": {},
   "outputs": [],
   "source": [
    "\n",
    "cutout:atlite.Cutout = atlite.Cutout('DRB_2020', module='era5', bounds=bounds, time=slice('2020-01-01', '2020-12-31'))\n",
    "print(f\"Loaded Cutout:\\n\\n {cutout}\")\n",
    "\n",
    "## Visualize Cutout's Grid\n",
    "\n",
    "# fig, ax = plt.subplots(figsize=(20,20))\n",
    "# countries_gdf.plot(ax=ax)\n",
    "# cutout.grid.plot(ax=ax, edgecolor='grey', color='None')\n",
    "\n",
    "# cutout.grid.explore()  # interactive map"
   ]
  },
  {
   "cell_type": "markdown",
   "metadata": {},
   "source": [
    "# Load Exclusion/Inclusion Geospatial Layers"
   ]
  },
  {
   "cell_type": "code",
   "execution_count": null,
   "metadata": {},
   "outputs": [],
   "source": [
    "CORINE = 'data/corine.tif'\n",
    "excluder = ExclusionContainer()\n",
    "excluder.add_raster(CORINE, codes=(1,2,3,4,5,6,7,8,9,10,11,12,13,14,15,16,17,18,19,20,21,22,23,24,25,30,34,35,36,37,38,39,40,41,42,43,44,45))\n",
    "print(f\"Exclusion Container Loaded: \\n\\n{excluder}\")"
   ]
  },
  {
   "cell_type": "code",
   "execution_count": null,
   "metadata": {},
   "outputs": [],
   "source": [
    "# import rioxarray\n",
    "# import matplotlib.pyplot as plt\n",
    "\n",
    "# # Open the TIFF file as an xarray DataArray\n",
    "# raster = rioxarray.open_rasterio('corine.tif')\n",
    "\n",
    "# # Display metadata\n",
    "# print(raster)\n",
    "\n",
    "# # Plot the raster data\n",
    "# raster.plot(cmap=\"viridis\", figsize=(10, 6))\n",
    "# plt.title(\"TIFF Raster\")\n",
    "# plt.show()\n"
   ]
  },
  {
   "cell_type": "markdown",
   "metadata": {},
   "source": [
    "* Prepare the Country Geometries"
   ]
  },
  {
   "cell_type": "code",
   "execution_count": null,
   "metadata": {},
   "outputs": [],
   "source": [
    "# serbia = shapes.loc[['Serbia']].geometry.to_crs(excluder.crs)\n",
    "serbia = countries_gdf.loc[countries_gdf['Country'] == 'Serbia'].geometry.to_crs(excluder.crs)\n",
    "# bosnia = shapes.loc[['Bosnia and Herz.']].geometry.to_crs(excluder.crs)\n",
    "bosnia = countries_gdf.loc[countries_gdf['Country'] == 'Bosnia and Herzegovina'].geometry.to_crs(excluder.crs)  # The country name is loaded as 'Bosnia and Herzegovina'\n",
    "# montenegro = shapes.loc[['Montenegro']].geometry.to_crs(excluder.crs)\n",
    "montenegro = countries_gdf.loc[countries_gdf['Country'] == 'Montenegro'].geometry.to_crs(excluder.crs)"
   ]
  },
  {
   "cell_type": "markdown",
   "metadata": {},
   "source": [
    "* Calculate Eligibility Share with Atlite"
   ]
  },
  {
   "cell_type": "code",
   "execution_count": null,
   "metadata": {},
   "outputs": [],
   "source": [
    "masked, transform = shape_availability(bosnia, excluder)\n",
    "\n",
    "eligible_share = masked.sum() * excluder.res**2 / bosnia.geometry.item().area"
   ]
  },
  {
   "cell_type": "markdown",
   "metadata": {},
   "source": [
    "* Visuals"
   ]
  },
  {
   "cell_type": "code",
   "execution_count": null,
   "metadata": {},
   "outputs": [],
   "source": [
    "# fig, ax = plt.subplots()\n",
    "# ax = show(masked, transform=transform, cmap='Greens', ax=ax)\n",
    "# bosnia.plot(ax=ax, edgecolor='k', color='none',figsize=(15, 25))\n",
    "# ax.set_title(f\"Bosnia's Eligible area (green) {eligible_share * 100:2.4f}%\");\n",
    "# plt.savefig('vis/RS_2020.png', dpi=300)"
   ]
  },
  {
   "cell_type": "code",
   "execution_count": null,
   "metadata": {},
   "outputs": [],
   "source": [
    "# fig, ax = plt.subplots()\n",
    "# ax = show(masked, transform=transform, cmap='Greens', ax=ax)\n",
    "# bosnia.plot(ax=ax, edgecolor='k', color='None')\n",
    "# cutout.grid.to_crs(excluder.crs).plot(edgecolor='grey', color='None', ax=ax, ls=':')\n",
    "# ax.set_title(f'Eligible area (green) {eligible_share * 100:2.2f}%');"
   ]
  },
  {
   "cell_type": "markdown",
   "metadata": {},
   "source": [
    "# Calculate Availability matrix"
   ]
  },
  {
   "cell_type": "code",
   "execution_count": null,
   "metadata": {},
   "outputs": [],
   "source": [
    "A = cutout.availabilitymatrix(countries_gdf, excluder)\n",
    "# A"
   ]
  },
  {
   "cell_type": "markdown",
   "metadata": {},
   "source": [
    "* Visuals"
   ]
  },
  {
   "cell_type": "code",
   "execution_count": null,
   "metadata": {},
   "outputs": [],
   "source": [
    "# fig, ax = plt.subplots(figsize=(20,20))\n",
    "# A.sel(ISO='BIH').plot(cmap='Greens')\n",
    "# bosnia.plot(ax=ax, edgecolor='k', color='None')\n",
    "# cutout.grid.plot(ax=ax, color='None', edgecolor='grey', ls=':')\n",
    "\n",
    "# float(A.sel(ISO='BIH')[8,12])"
   ]
  },
  {
   "cell_type": "code",
   "execution_count": null,
   "metadata": {},
   "outputs": [],
   "source": [
    "fg = A.plot(row='ISO', col_wrap=3, cmap='Greens',figsize=(15, 6))\n",
    "fg.set_titles('{value}')\n",
    "for i, c in enumerate(countries_gdf.index):\n",
    "    countries_gdf.loc[[c]].plot(ax=fg.axes.flatten()[i], edgecolor='k', color='None')\n",
    "plt.savefig('vis/DRB_riparians_2020', dpi=300)   "
   ]
  },
  {
   "cell_type": "markdown",
   "metadata": {},
   "source": [
    "# Calculate Potential Capacity using Land-use Intensity"
   ]
  },
  {
   "cell_type": "code",
   "execution_count": null,
   "metadata": {},
   "outputs": [],
   "source": [
    "cap_per_sqkm = 1.7\n",
    "area = cutout.grid.set_index(['y', 'x']).to_crs(3035).area / 1e6\n",
    "area = xr.DataArray(area, dims=('spatial'))\n",
    "\n",
    "capacity_matrix = A.stack(spatial=['y', 'x']) * area * cap_per_sqkm"
   ]
  },
  {
   "cell_type": "code",
   "execution_count": null,
   "metadata": {},
   "outputs": [],
   "source": [
    "cutout.prepare()\n"
   ]
  },
  {
   "cell_type": "markdown",
   "metadata": {},
   "source": [
    "## Calculate PV power"
   ]
  },
  {
   "cell_type": "code",
   "execution_count": null,
   "metadata": {},
   "outputs": [],
   "source": [
    "pv = cutout.pv(matrix=capacity_matrix, panel=atlite.solarpanels.CdTe,\n",
    "               orientation='latitude_optimal', index=shapes.index)    "
   ]
  },
  {
   "cell_type": "code",
   "execution_count": null,
   "metadata": {},
   "outputs": [],
   "source": [
    "# cutout.prepared_features"
   ]
  },
  {
   "cell_type": "code",
   "execution_count": null,
   "metadata": {},
   "outputs": [],
   "source": [
    "pv.to_pandas().div(1e3).plot(ylabel='Solar Power [GW]', ls='--', figsize=(10, 4));\n",
    "plt.savefig('Solar_Power_[GW]_2020.png', dpi=300)\n",
    "pv.to_pandas().to_csv('data/solar_cf_2020.csv')"
   ]
  },
  {
   "cell_type": "markdown",
   "metadata": {},
   "source": [
    "## Calculate WIND power"
   ]
  },
  {
   "cell_type": "code",
   "execution_count": null,
   "metadata": {},
   "outputs": [],
   "source": [
    "wind = cutout.wind(matrix=capacity_matrix, turbine='Siemens_SWT_2.3_108',\n",
    "               index=countries_gdf.index)"
   ]
  },
  {
   "cell_type": "code",
   "execution_count": null,
   "metadata": {},
   "outputs": [],
   "source": [
    "cutout.wind(turbine='Siemens_SWT_2.3_108').plot()"
   ]
  },
  {
   "cell_type": "code",
   "execution_count": null,
   "metadata": {},
   "outputs": [],
   "source": [
    "wind.to_pandas().div(1e3).plot(ylabel='Wind Power [GW]', ls='--', figsize=(10, 4));\n",
    "plt.savefig('Wind_Power_[GW]_2020.png', dpi=300)"
   ]
  },
  {
   "cell_type": "code",
   "execution_count": null,
   "metadata": {},
   "outputs": [],
   "source": [
    "wind.to_pandas().to_csv('data/wind_cf_2020.csv')"
   ]
  }
 ],
 "metadata": {
  "kernelspec": {
   "display_name": "drb_osemosys",
   "language": "python",
   "name": "python3"
  },
  "language_info": {
   "codemirror_mode": {
    "name": "ipython",
    "version": 3
   },
   "file_extension": ".py",
   "mimetype": "text/x-python",
   "name": "python",
   "nbconvert_exporter": "python",
   "pygments_lexer": "ipython3",
   "version": "3.12.7"
  },
  "orig_nbformat": 4
 },
 "nbformat": 4,
 "nbformat_minor": 2
}
