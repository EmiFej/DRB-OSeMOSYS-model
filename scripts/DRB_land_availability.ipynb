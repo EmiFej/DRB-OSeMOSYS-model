{
 "cells": [
  {
   "cell_type": "code",
   "execution_count": null,
   "metadata": {},
   "outputs": [],
   "source": [
    "import atlite\n",
    "import xarray as xr\n",
    "import geopandas as gpd\n",
    "import matplotlib.pyplot as plt\n",
    "from rasterio.plot import show\n",
    "from atlite.gis import shape_availability, ExclusionContainer\n",
    "\n",
    "import os\n",
    "from matplotlib.gridspec import GridSpec\n",
    "import seaborn as sns\n",
    "import pandas as pd\n",
    "from pandas.plotting import register_matplotlib_converters\n",
    "register_matplotlib_converters()\n",
    "\n",
    "import cartopy.crs as ccrs\n",
    "from cartopy.crs import PlateCarree as plate\n",
    "import cartopy.io.shapereader as shpreader\n",
    "\n",
    "import logging\n",
    "import warnings\n",
    "\n",
    "warnings.simplefilter('ignore')\n",
    "logging.captureWarnings(False)\n",
    "logging.basicConfig(level=logging.INFO)\n",
    "\n",
    "plt.rcParams['figure.figsize'] = [7, 7]\n",
    "world = gpd.read_file(gpd.datasets.get_path('naturalearth_lowres'))\n",
    "countries = ['Serbia', 'Bosnia and Herz.', 'Montenegro']\n",
    "shapes = world[world.name.isin(countries)].set_index('name')\n",
    "\n",
    "shapes.plot();"
   ]
  },
  {
   "cell_type": "code",
   "execution_count": null,
   "metadata": {},
   "outputs": [],
   "source": [
    "bounds = shapes.cascaded_union.buffer(1).bounds\n",
    "cutout = atlite.Cutout('DRB_2020', module='era5', bounds=bounds, time=slice('2020-01-01', '2020-12-31'))"
   ]
  },
  {
   "cell_type": "code",
   "execution_count": null,
   "metadata": {},
   "outputs": [],
   "source": [
    "fig, ax = plt.subplots(figsize=(20,20))\n",
    "shapes.plot(ax=ax)\n",
    "cutout.grid.plot(ax=ax, edgecolor='grey', color='None')"
   ]
  },
  {
   "cell_type": "code",
   "execution_count": null,
   "metadata": {},
   "outputs": [],
   "source": [
    "CORINE = 'corine.tif'\n",
    "excluder = ExclusionContainer()\n",
    "excluder.add_raster(CORINE, codes=(1,2,3,4,5,6,7,8,9,10,11,12,13,14,15,16,17,18,19,20,21,22,23,24,25,30,34,35,36,37,38,39,40,41,42,43,44,45))"
   ]
  },
  {
   "cell_type": "code",
   "execution_count": null,
   "metadata": {},
   "outputs": [],
   "source": [
    "serbia = shapes.loc[['Serbia']].geometry.to_crs(excluder.crs)\n",
    "bosnia = shapes.loc[['Bosnia and Herz.']].geometry.to_crs(excluder.crs)\n",
    "montenegro = shapes.loc[['Montenegro']].geometry.to_crs(excluder.crs)"
   ]
  },
  {
   "cell_type": "code",
   "execution_count": null,
   "metadata": {},
   "outputs": [],
   "source": [
    "masked, transform = shape_availability(bosnia, excluder)\n",
    "eligible_share = masked.sum() * excluder.res**2 / bosnia.geometry.item().area"
   ]
  },
  {
   "cell_type": "code",
   "execution_count": null,
   "metadata": {},
   "outputs": [],
   "source": [
    "bosnia.geometry.item().area"
   ]
  },
  {
   "cell_type": "code",
   "execution_count": null,
   "metadata": {},
   "outputs": [],
   "source": [
    "fig, ax = plt.subplots()\n",
    "ax = show(masked, transform=transform, cmap='Greens', ax=ax)\n",
    "bosnia.plot(ax=ax, edgecolor='k', color='none',figsize=(15, 25))\n",
    "ax.set_title(f'Eligible area (green) {eligible_share * 100:2.4f}%');\n",
    "plt.savefig('RS_2020.png', dpi=300)"
   ]
  },
  {
   "cell_type": "code",
   "execution_count": null,
   "metadata": {},
   "outputs": [],
   "source": [
    "fig, ax = plt.subplots()\n",
    "ax = show(masked, transform=transform, cmap='Greens', ax=ax)\n",
    "bosnia.plot(ax=ax, edgecolor='k', color='None')\n",
    "cutout.grid.to_crs(excluder.crs).plot(edgecolor='grey', color='None', ax=ax, ls=':')\n",
    "ax.set_title(f'Eligible area (green) {eligible_share * 100:2.2f}%');"
   ]
  },
  {
   "cell_type": "code",
   "execution_count": null,
   "metadata": {},
   "outputs": [],
   "source": [
    "A = cutout.availabilitymatrix(shapes, excluder)\n",
    "A"
   ]
  },
  {
   "cell_type": "code",
   "execution_count": null,
   "metadata": {},
   "outputs": [],
   "source": [
    "fig, ax = plt.subplots(figsize=(20,20))\n",
    "A.sel(name='Bosnia and Herz.').plot(cmap='Greens')\n",
    "shapes.loc[['Bosnia and Herz.']].plot(ax=ax, edgecolor='k', color='None')\n",
    "cutout.grid.plot(ax=ax, color='None', edgecolor='grey', ls=':')"
   ]
  },
  {
   "cell_type": "code",
   "execution_count": null,
   "metadata": {},
   "outputs": [],
   "source": [
    "float(A.sel(name='Bosnia and Herz.')[8,12])"
   ]
  },
  {
   "cell_type": "code",
   "execution_count": null,
   "metadata": {},
   "outputs": [],
   "source": [
    "fg = A.plot(row='name', col_wrap=3, cmap='Greens',figsize=(15, 6))\n",
    "fg.set_titles('{value}')\n",
    "for i, c in enumerate(shapes.index):\n",
    "    shapes.loc[[c]].plot(ax=fg.axes.flatten()[i], edgecolor='k', color='None')\n",
    "plt.savefig('DRB_riparians_2020', dpi=300)   "
   ]
  },
  {
   "cell_type": "code",
   "execution_count": null,
   "metadata": {},
   "outputs": [],
   "source": [
    "cap_per_sqkm = 1.7\n",
    "area = cutout.grid.set_index(['y', 'x']).to_crs(3035).area / 1e6\n",
    "area = xr.DataArray(area, dims=('spatial'))\n",
    "\n",
    "capacity_matrix = A.stack(spatial=['y', 'x']) * area * cap_per_sqkm"
   ]
  },
  {
   "cell_type": "code",
   "execution_count": null,
   "metadata": {},
   "outputs": [],
   "source": [
    "cutout.prepare()\n",
    "pv = cutout.pv(matrix=capacity_matrix, panel=atlite.solarpanels.CdTe,\n",
    "               orientation='latitude_optimal', index=shapes.index)    "
   ]
  },
  {
   "cell_type": "code",
   "execution_count": null,
   "metadata": {},
   "outputs": [],
   "source": [
    "cutout.prepared_features"
   ]
  },
  {
   "cell_type": "code",
   "execution_count": null,
   "metadata": {},
   "outputs": [],
   "source": [
    "pv.to_pandas().div(1e3).plot(ylabel='Solar Power [GW]', ls='--', figsize=(10, 4));\n",
    "plt.savefig('Solar_Power_[GW]_2020.png', dpi=300)"
   ]
  },
  {
   "cell_type": "code",
   "execution_count": null,
   "metadata": {},
   "outputs": [],
   "source": [
    "pv.to_pandas().to_csv('/Users/solar_cf_2020.csv')"
   ]
  },
  {
   "cell_type": "code",
   "execution_count": null,
   "metadata": {},
   "outputs": [],
   "source": [
    "wind = cutout.wind(matrix=capacity_matrix, turbine='Siemens_SWT_2.3_108',\n",
    "               index=shapes.index)"
   ]
  },
  {
   "cell_type": "code",
   "execution_count": null,
   "metadata": {},
   "outputs": [],
   "source": [
    "cutout.prepared_features"
   ]
  },
  {
   "cell_type": "code",
   "execution_count": null,
   "metadata": {},
   "outputs": [],
   "source": [
    "cutout.wind(turbine='Siemens_SWT_2.3_108').plot()"
   ]
  },
  {
   "cell_type": "code",
   "execution_count": null,
   "metadata": {},
   "outputs": [],
   "source": [
    "wind.to_pandas().div(1e3).plot(ylabel='Wind Power [GW]', ls='--', figsize=(10, 4));\n",
    "plt.savefig('Wind_Power_[GW]_2020.png', dpi=300)"
   ]
  },
  {
   "cell_type": "code",
   "execution_count": null,
   "metadata": {},
   "outputs": [],
   "source": [
    "wind.to_pandas().to_csv('/Users/wind_cf_2020.csv')"
   ]
  }
 ],
 "metadata": {
  "kernelspec": {
   "display_name": "drina",
   "language": "python",
   "name": "python3"
  },
  "language_info": {
   "codemirror_mode": {
    "name": "ipython",
    "version": 3
   },
   "file_extension": ".py",
   "mimetype": "text/x-python",
   "name": "python",
   "nbconvert_exporter": "python",
   "pygments_lexer": "ipython3",
   "version": "3.10.8 | packaged by conda-forge | (main, Nov 22 2022, 08:16:33) [MSC v.1929 64 bit (AMD64)]"
  },
  "orig_nbformat": 4,
  "vscode": {
   "interpreter": {
    "hash": "4681f272e3a5a3fdf354e1228c4637420a8422b7c6e4279d9a0b0a9b7c479e6c"
   }
  }
 },
 "nbformat": 4,
 "nbformat_minor": 2
}
